{
 "cells": [
  {
   "cell_type": "markdown",
   "metadata": {},
   "source": [
    ".\n",
    "\n",
    "[문제상황 예시]\n",
    "\n",
    "문제상황 : 윈도우 환경에서 휴대폰 테더링 네트워크를 이용하여 EC2 SSH 접속시도시 접속이 안되는 현상 \n",
    "\n",
    "(Network error: Connection timed out)\n",
    "\n",
    "fact 1) 해당 EC2는 퍼블릭 VPC에 있고, 퍼블릭 아이피가 할당이 되어 있음\n",
    "\n",
    "fact 2) 보안그룹도 아래 그림과 같이 현재 나의 로컬피시의 my ip를 개방을 해둔 상태\n",
    "\n",
    "![1](https://user-images.githubusercontent.com/41605276/105629609-57b4e180-5e87-11eb-85db-b1f28bd0bc73.PNG)\n",
    "\n",
    "fact 3) .pem 키가 다른 거로 접속하지는 않았는지 확인하였음\n",
    "\n",
    "fact 4) 사용자 이름을 ec2-user로 올바르게 입력하였음\n",
    "\n",
    "fact 5) 나의 VPC에 방화벽등 보안장비를 전혀 두지 않았음\n",
    "\n",
    "[해결방법]\n",
    "\n",
    "윈도우 바탕화면에서 좌측하단에 입력창에 '네트워크 연결 보기'를 검색해서 접속  --> 내 테더링 네트워크 아이콘 우측클릭 --> '속성' 클릭 --> 아래 그림과 같은 화면이 나오는데 여기서 '인터넷 프로토콜 버전 6'를 체크 해제를 해준다. --> 보안그룹에서 myip로 22번포트 다시 추가 (나의 아이피가 '인터넷 프로토콜 버전 6' 체크 해제하기 전과 비교했을때 바뀐 것을 확인할 수 있음) --> 다시 SSH 접속을 시도하면 접속이 되는 것을 확인할 수 있음\n",
    "\n",
    "![2](https://user-images.githubusercontent.com/41605276/105629707-f6d9d900-5e87-11eb-9a4b-37f1403687b9.PNG)"
   ]
  }
 ],
 "metadata": {
  "kernelspec": {
   "display_name": "Python 3",
   "language": "python",
   "name": "python3"
  },
  "language_info": {
   "codemirror_mode": {
    "name": "ipython",
    "version": 3
   },
   "file_extension": ".py",
   "mimetype": "text/x-python",
   "name": "python",
   "nbconvert_exporter": "python",
   "pygments_lexer": "ipython3",
   "version": "3.7.4"
  }
 },
 "nbformat": 4,
 "nbformat_minor": 2
}
